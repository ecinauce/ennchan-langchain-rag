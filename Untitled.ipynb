{
 "cells": [
  {
   "cell_type": "code",
   "execution_count": null,
   "id": "882e73ab-bce8-4f19-9a0e-307699bcf3bf",
   "metadata": {},
   "outputs": [],
   "source": [
    "# import getpass # getpass.getpass()\n",
    "import os\n",
    "\n",
    "os.environ[\"LANGSMITH_TRACING\"] = \"true\"\n",
    "os.environ[\"LANGSMITH_API_KEY\"] = \"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\""
   ]
  },
  {
   "cell_type": "code",
   "execution_count": null,
   "id": "92aca6f6-0a15-420e-afe2-1421a2ba86d5",
   "metadata": {},
   "outputs": [],
   "source": [
    "import getpass\n",
    "import os\n",
    "\n",
    "if not os.environ.get(\"WATSONX_APIKEY\"):\n",
    "  os.environ[\"WATSONX_APIKEY\"] = \"4k4-fF2FdG68lyO8W2byjRs-HK9BlA4A01R7IOS9P7Np\"\n",
    "\n",
    "from langchain_ibm import ChatWatsonx\n",
    "\n",
    "llm = ChatWatsonx(\n",
    "    model_id=\"ibm/granite-34b-code-instruct\", \n",
    "    url=\"https://us-south.ml.cloud.ibm.com\", \n",
    "    project_id=\"0580f65e-d9ba-4ada-bf7c-96a5c4aa9ec8\"\n",
    ")"
   ]
  },
  {
   "cell_type": "code",
   "execution_count": null,
   "id": "375d2fe4-d2ca-41e0-a278-8e30722552ed",
   "metadata": {},
   "outputs": [],
   "source": [
    "from langchain_huggingface import HuggingFaceEmbeddings\n",
    "\n",
    "embeddings = HuggingFaceEmbeddings(model_name=\"sentence-transformers/all-mpnet-base-v2\")"
   ]
  },
  {
   "cell_type": "code",
   "execution_count": null,
   "id": "89785f7c-de10-4b80-82c8-50f3733c3e4f",
   "metadata": {},
   "outputs": [],
   "source": [
    "from langchain_core.vectorstores import InMemoryVectorStore\n",
    "\n",
    "vector_store = InMemoryVectorStore(embeddings)"
   ]
  }
 ],
 "metadata": {
  "kernelspec": {
   "display_name": "Python 3 (ipykernel)",
   "language": "python",
   "name": "python3"
  },
  "language_info": {
   "codemirror_mode": {
    "name": "ipython",
    "version": 3
   },
   "file_extension": ".py",
   "mimetype": "text/x-python",
   "name": "python",
   "nbconvert_exporter": "python",
   "pygments_lexer": "ipython3",
   "version": "3.12.6"
  }
 },
 "nbformat": 4,
 "nbformat_minor": 5
}
